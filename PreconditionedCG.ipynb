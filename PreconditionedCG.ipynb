{
 "cells": [
  {
   "cell_type": "code",
   "execution_count": 2,
   "id": "d39440c7-c504-4a83-bfca-b0b0656698b5",
   "metadata": {},
   "outputs": [],
   "source": [
    "import scipy.sparse as sp\n",
    "import numpy as np\n",
    "import seaborn as sns\n",
    "import matplotlib.pyplot as plt\n",
    "import scipy.sparse.linalg"
   ]
  },
  {
   "cell_type": "markdown",
   "id": "17b329da-242a-43e1-bf3e-6ab78f1171f5",
   "metadata": {
    "id": "7QvpBOvsrPBN",
    "tags": []
   },
   "source": [
    "##  Первое задание. Предобусловленный метод сопряженных градиентов."
   ]
  },
  {
   "cell_type": "markdown",
   "id": "9325a9ef-a75b-43d4-af73-49b7eaaa46ae",
   "metadata": {
    "id": "tK5IopV_rPBV"
   },
   "source": [
    "Задача, решить линейную систему:\n",
    "$$\n",
    "Ax = b\n",
    "$$\n",
    "\n",
    "Где $A$ -  матрица оператора Лапласа, $b$ константный вектор.\n",
    "\n",
    "\n",
    "\n",
    "$$\n",
    "\\begin{equation}\n",
    "A =  \\frac{1}{h^2}\n",
    "\\begin{pmatrix}\n",
    "2 & -1 & \\cdots & 0 &0 \\\\\n",
    "-1 & 2 & \\cdots & 0 & 0\\\\\n",
    "\\vdots  & \\vdots  & \\ddots & \\vdots & \\vdots \\\\\n",
    "0 & 0& \\cdots &-2 & 1 \\\\\n",
    "0 & 0& \\cdots &-1 & 1\n",
    "\\end{pmatrix}\n",
    "\\label{eq::Amat}\n",
    "\\end{equation}\n",
    "$$\n",
    "\n",
    "$h$ - Шаг сетки. Пусть сетка равномерная, тогда $h=\\frac{1}{n+1}$, где $n+1$ - количество узлов в сетке. \n",
    "\n",
    "\n",
    "Задать такую матрицу и вектор можно следкющим образом "
   ]
  },
  {
   "cell_type": "code",
   "execution_count": 3,
   "id": "94cf3a6d-970c-4852-8bf7-f5653dd80f16",
   "metadata": {
    "id": "eLxPL9tGrPBW"
   },
   "outputs": [],
   "source": [
    "#n можно взять любым больше 100. Перевести разрженную матрицу в плотную можно мотодом toarray()\n",
    "np.random.seed(23)\n",
    "\n",
    "n = 1000\n",
    "A =  sp.diags([-1, 2, -1], [-1,0,1], shape = (n, n)) \n",
    "A =  A *(n+1)**2\n",
    "\n",
    "#константный вектор правой части\n",
    "b =  np.ones(n) * 6.\n",
    "\n",
    "# рандомная начальная точка\n",
    "x0 = np.random.rand(n)"
   ]
  },
  {
   "cell_type": "markdown",
   "id": "d8886452-733e-45ee-b10b-0d0a09adf531",
   "metadata": {
    "id": "xT_zwe-8rPBW"
   },
   "source": [
    "Число обусловленности такой матрицы будет большим"
   ]
  },
  {
   "cell_type": "code",
   "execution_count": 4,
   "id": "8a551243-17ac-433d-9f41-cfdc444529d9",
   "metadata": {
    "colab": {
     "base_uri": "https://localhost:8080/"
    },
    "id": "DjXrjgKqrPBW",
    "outputId": "b8d611a6-25b7-4299-c95c-db75a4bd5fbe"
   },
   "outputs": [
    {
     "data": {
      "text/plain": [
       "(406095.04265001946, 406095.0425928014)"
      ]
     },
     "execution_count": 4,
     "metadata": {},
     "output_type": "execute_result"
    }
   ],
   "source": [
    "w, _= np.linalg.eig(A.toarray())\n",
    "np.linalg.cond(A.toarray()), max(w)/min(w)"
   ]
  },
  {
   "cell_type": "code",
   "execution_count": 5,
   "id": "b95f759b-147e-4966-b031-dfd03e549057",
   "metadata": {
    "colab": {
     "base_uri": "https://localhost:8080/"
    },
    "id": "AGhXunftrPBY",
    "outputId": "b10ca9f9-4fd1-4252-f5e7-7384b54a93ac"
   },
   "outputs": [
    {
     "data": {
      "text/plain": [
       "True"
      ]
     },
     "execution_count": 5,
     "metadata": {},
     "output_type": "execute_result"
    }
   ],
   "source": [
    "np.isclose(max(w)/min(w), np.linalg.cond(A.toarray()))"
   ]
  },
  {
   "cell_type": "markdown",
   "id": "4356b410-9367-4cdf-b79c-811de746ca6e",
   "metadata": {
    "id": "ABudy-mLrPBY"
   },
   "source": [
    "Проверить, как отработает метод сопряженных градиентов на такой задаче. (Метод можно взять из семинара)"
   ]
  },
  {
   "cell_type": "code",
   "execution_count": 6,
   "id": "b09c386e-04ed-4b1f-82b5-6e05088e4e5e",
   "metadata": {},
   "outputs": [],
   "source": [
    "from optimizers.CG import CG, PreconditionedCG\n",
    "\n",
    "%load_ext autoreload\n",
    "%autoreload 2"
   ]
  },
  {
   "cell_type": "code",
   "execution_count": 7,
   "id": "9af075b9-3fb0-40c1-89d7-f20811d67bd9",
   "metadata": {},
   "outputs": [
    {
     "name": "stdout",
     "output_type": "stream",
     "text": [
      "CG finished after 1002 iterations with score 4.229193442340575e-10\n"
     ]
    }
   ],
   "source": [
    "final_cg, score_cg, hist_cg = CG(A, b, x0).optimize()\n",
    "\n",
    "cg_iter = len(hist_cg[\"x\"])\n",
    "print('CG finished after {} iterations with score {}'.format(cg_iter, score_cg))"
   ]
  },
  {
   "cell_type": "markdown",
   "id": "b5810a5f-4f71-4e0d-a568-8abbd0176323",
   "metadata": {
    "id": "MY1SUJFprPBY"
   },
   "source": [
    "Написать метод сопряженных градиентов, учитывая действие предобуславлевателя. \n",
    "\n",
    "![](PCG.png)\n",
    "\n",
    "([Полный текст тут](http://www.cse.psu.edu/~b58/cse456/lecture20.pdf))"
   ]
  },
  {
   "cell_type": "markdown",
   "id": "fdf7e8cf-0aa8-4868-a18b-cb21c8539bdb",
   "metadata": {
    "id": "AtvOZYGArPBZ"
   },
   "source": [
    "Проверить работу метода на предобуславлевателе Гаусса-Зейделя. Обратите внимание, что есть симметричный и не симметричные варианты. Какой надо взять?([Статья с предобуславлевателями для метода сопряжённых градиентов](https://citeseerx.ist.psu.edu/viewdoc/download?doi=10.1.1.592.1575&rep=rep1&type=pdf))"
   ]
  },
  {
   "cell_type": "code",
   "execution_count": 8,
   "id": "5cb9fb8f-cab5-4a92-893d-aa9a68d42bdd",
   "metadata": {},
   "outputs": [
    {
     "name": "stdout",
     "output_type": "stream",
     "text": [
      "CG finished after 359 iterations with score 6.58756793988919e-09\n"
     ]
    }
   ],
   "source": [
    "L = sp.tril(A)\n",
    "D = sp.diags(1 / A.diagonal())\n",
    "U = sp.triu(A)\n",
    "\n",
    "# Symmetric Gauss-Seidel preconditioner\n",
    "M = L.dot(D).dot(U)\n",
    "\n",
    "final_pcg, score_pcg, hist_pcg = PreconditionedCG(A, b, x0, M).optimize()\n",
    "\n",
    "pcg_iter = len(hist_pcg[\"x\"])\n",
    "print('CG finished after {} iterations with score {}'.format(pcg_iter, score_pcg))"
   ]
  },
  {
   "cell_type": "markdown",
   "id": "07ce120a-5ebc-4aa2-844f-d5b8f1a966e6",
   "metadata": {
    "id": "xrhFvypcrPBa"
   },
   "source": [
    "Сравните результат работы предобусловленной и непредобусловленной версии"
   ]
  },
  {
   "cell_type": "code",
   "execution_count": 10,
   "id": "a301fa27-29b4-4f2d-bd5e-ad1b7abb40f8",
   "metadata": {},
   "outputs": [
    {
     "data": {
      "text/plain": [
       "<matplotlib.legend.Legend at 0x7f75aaf95cd0>"
      ]
     },
     "execution_count": 10,
     "metadata": {},
     "output_type": "execute_result"
    },
    {
     "data": {
      "image/png": "[encoded data removed]",
      "text/plain": [
       "<Figure size 1008x576 with 1 Axes>"
      ]
     },
     "metadata": {},
     "output_type": "display_data"
    }
   ],
   "source": [
    "it_cg = np.arange(cg_iter)\n",
    "scores_cg = hist_cg[\"scores\"]\n",
    "\n",
    "it_pcg = np.arange(pcg_iter)\n",
    "scores_pcg = hist_pcg[\"scores\"]\n",
    "\n",
    "sns.set()\n",
    "plt.figure(figsize = (14, 8))\n",
    "\n",
    "plt.plot(it_cg, np.log(scores_cg), linewidth=2, label='Conjugate Gradient')\n",
    "plt.plot(it_pcg, np.log(scores_pcg), linewidth=2, label='Preconditioned Conjugate Gradient')\n",
    "\n",
    "plt.xlabel('number of iterations')\n",
    "plt.ylabel('log(score)')\n",
    "plt.xticks(fontsize = 20)\n",
    "plt.yticks(fontsize = 20)\n",
    "plt.legend(loc=\"best\", fontsize=20)"
   ]
  },
  {
   "cell_type": "markdown",
   "id": "94d7b080-381a-426e-af90-8c7bac8386cd",
   "metadata": {},
   "source": [
    "__Вывод:__ Как мы видим из полученных графиков, предобусловленный метод сопряжённых градиентов сходится в 3 раза быстрее, чем классический метод сопряжённых градиентов на матрицах с большим числом обусловленности."
   ]
  }
 ],
 "metadata": {
  "kernelspec": {
   "display_name": "Python 3",
   "language": "python",
   "name": "python3"
  },
  "language_info": {
   "codemirror_mode": {
    "name": "ipython",
    "version": 3
   },
   "file_extension": ".py",
   "mimetype": "text/x-python",
   "name": "python",
   "nbconvert_exporter": "python",
   "pygments_lexer": "ipython3",
   "version": "3.9.7"
  }
 },
 "nbformat": 4,
 "nbformat_minor": 5
}
